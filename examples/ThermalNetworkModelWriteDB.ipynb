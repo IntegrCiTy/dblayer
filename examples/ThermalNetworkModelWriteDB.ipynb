{
 "cells": [
  {
   "cell_type": "markdown",
   "metadata": {},
   "source": [
    "# Example: Writing a thermal network model to the extended 3DCityDB\n",
    "\n",
    "This example shows how to write a simple thermal network model to the extended *3DCityDB*, using the `dblayer` package. Basic knowledge about [CityGML](http://www.citygmlwiki.org) and the [Utility Network ADE](https://en.wiki.utilitynetworks.sig3d.org) are required for this notebook. A nice overview of the of the basic concepts of the Utility Network ADE can be found [here](https://en.wiki.utilitynetworks.sig3d.org/images/upload/20160913_-_Kolbe_-_Modeling_3D_Utility_Networks_%2B_UtilityNetwork_ADE_Core_Model.pdf).\n",
    "\n",
    "For the example, a simple thermal network is used, as shown in the following figure (SRC = thermal source, SNK = thermal sink, N = network node / pipe junction).\n",
    "\n",
    "<img src=\"./figures/thermal_network.svg\" style=\"width: 650px;\">"
   ]
  },
  {
   "cell_type": "markdown",
   "metadata": {},
   "source": [
    "## Getting started ...\n",
    "\n",
    "Import the required funtionality from package `dblayer`."
   ]
  },
  {
   "cell_type": "code",
   "execution_count": 1,
   "metadata": {},
   "outputs": [],
   "source": [
    "from dblayer.helpers.utn.thermal_network import *"
   ]
  },
  {
   "cell_type": "markdown",
   "metadata": {},
   "source": [
    "Load data from CSV files, containing information about busses, lines and loads."
   ]
  },
  {
   "cell_type": "code",
   "execution_count": 2,
   "metadata": {},
   "outputs": [],
   "source": [
    "import pandas as pd\n",
    "import os.path\n",
    "\n",
    "sinks_csv_data = pd.read_csv( os.path.join( 'csv', 'thermal_sink_data.csv' ), index_col = 0 )\n",
    "junctions_csv_data = pd.read_csv( os.path.join( 'csv', 'thermal_junction_data.csv' ), index_col = 0 )\n",
    "pipes_csv_data = pd.read_csv( os.path.join( 'csv', 'thermal_pipe_data.csv' ), index_col = 0 )"
   ]
  },
  {
   "cell_type": "markdown",
   "metadata": {},
   "source": [
    "Dict for most relevant data of thermal nodes (i.e., thermal sources, thermal loads, pipe junctions) added to the database "
   ]
  },
  {
   "cell_type": "code",
   "execution_count": 3,
   "metadata": {},
   "outputs": [],
   "source": [
    "nodes_data = {}"
   ]
  },
  {
   "cell_type": "markdown",
   "metadata": {},
   "source": [
    "## Connect to database\n",
    "\n",
    "Define connection parameters for 3DCityDB instance."
   ]
  },
  {
   "cell_type": "code",
   "execution_count": 4,
   "metadata": {},
   "outputs": [],
   "source": [
    "connect = PostgreSQLConnectionInfo(\n",
    "    user = 'postgres',\n",
    "    pwd = 'postgres',\n",
    "    host = 'localhost',\n",
    "    port = '5432',\n",
    "    dbname = 'citydb'\n",
    "    )"
   ]
  },
  {
   "cell_type": "markdown",
   "metadata": {},
   "source": [
    "Connect to database using an instance of class `DBAccess`."
   ]
  },
  {
   "cell_type": "code",
   "execution_count": 5,
   "metadata": {},
   "outputs": [],
   "source": [
    "db_access = DBAccess()\n",
    "db_access.connect_to_citydb( connect )"
   ]
  },
  {
   "cell_type": "markdown",
   "metadata": {},
   "source": [
    "For the purpose of this notebook yoi might want to use an empty 3DCityDB. To this end, the next two lines erase all data from an existing database. **Only execute the next two lines if you really want to erase all data from your database!**"
   ]
  },
  {
   "cell_type": "code",
   "execution_count": 6,
   "metadata": {},
   "outputs": [],
   "source": [
    "db_access.cleanup_citydb_schema()\n",
    "db_access.cleanup_simpkg_schema()"
   ]
  },
  {
   "cell_type": "markdown",
   "metadata": {},
   "source": [
    "## Write the network to the database\n",
    "Define the spatial reference ID (SRID) of the network. This should be consistent with the setup of your database."
   ]
  },
  {
   "cell_type": "code",
   "execution_count": 7,
   "metadata": {},
   "outputs": [],
   "source": [
    "srid = 4326"
   ]
  },
  {
   "cell_type": "markdown",
   "metadata": {},
   "source": [
    "Insert a new *network* and an associated *network graph*. The *network* basically contains the topographical representation - the so-called *network features* - of all the network network components. The *network graph* contains the toplogical representation - of all these components the topological links between them. Use function `write_network_to_db` from package `dblayer.helpers.utn.thermal_network`."
   ]
  },
  {
   "cell_type": "code",
   "execution_count": 8,
   "metadata": {},
   "outputs": [],
   "source": [
    "( ntw_id, ntw_graph_id ) = write_network_to_db(\n",
    "    db_access,\n",
    "    name = 'thermal_example_network',\n",
    "    id = 2000\n",
    "    )"
   ]
  },
  {
   "cell_type": "markdown",
   "metadata": {},
   "source": [
    "Add thermal source to the network. Use function `write_terminal_element_to_db` from package `dblayer.helpers.utn.thermal_network`."
   ]
  },
  {
   "cell_type": "code",
   "execution_count": 9,
   "metadata": {},
   "outputs": [],
   "source": [
    "source_name = 'source-SRC'\n",
    "\n",
    "nodes_data[source_name] = write_terminal_element_to_db( \n",
    "    db_access,\n",
    "    source_name,\n",
    "    Point2D( 0., 0. ),\n",
    "    'thermal-source',\n",
    "    srid,\n",
    "    ntw_id,\n",
    "    ntw_graph_id\n",
    "    )"
   ]
  },
  {
   "cell_type": "markdown",
   "metadata": {},
   "source": [
    "Add thermal sinks to the network. Use function `write_dhw_sink_to_db` from package `dblayer.helpers.utn.thermal_network`."
   ]
  },
  {
   "cell_type": "code",
   "execution_count": 10,
   "metadata": {},
   "outputs": [],
   "source": [
    "for sink_name, sink_csv_data in sinks_csv_data.iterrows():\n",
    "\n",
    "    nodes_data[sink_name] = write_dhw_sink_to_db(\n",
    "        db_access,\n",
    "        sink_name,\n",
    "        Point2D( sink_csv_data.x, sink_csv_data.y ),\n",
    "        sink_csv_data.heat_diss_kw,\n",
    "        'kW',\n",
    "        srid,\n",
    "        ntw_id,\n",
    "        ntw_graph_id )"
   ]
  },
  {
   "cell_type": "markdown",
   "metadata": {},
   "source": [
    "Add pipe junctions to the network. Use function `write_junction_to_db` from package `dblayer.helpers.utn.thermal_network`."
   ]
  },
  {
   "cell_type": "code",
   "execution_count": 11,
   "metadata": {},
   "outputs": [],
   "source": [
    "for junction_name, junction_csv_data in junctions_csv_data.iterrows():\n",
    "\n",
    "    nodes_data[junction_name] = write_junction_to_db(\n",
    "        db_access,\n",
    "        junction_name,\n",
    "        Point2D( junction_csv_data.x, junction_csv_data.y ),\n",
    "        srid,\n",
    "        ntw_id,\n",
    "        ntw_graph_id\n",
    "        )"
   ]
  },
  {
   "cell_type": "markdown",
   "metadata": {},
   "source": [
    "Add all pipes to the network and connect them. Use function `write_round_pipe_to_db` from package `dblayer.helpers.utn.thermal_network`."
   ]
  },
  {
   "cell_type": "code",
   "execution_count": 12,
   "metadata": {},
   "outputs": [],
   "source": [
    "for pipe_name, pipe_csv_data in pipes_csv_data.iterrows():\n",
    "\n",
    "    write_round_pipe_to_db(\n",
    "        db_access,\n",
    "        pipe_name,\n",
    "        nodes_data[pipe_csv_data.from_node],\n",
    "        nodes_data[pipe_csv_data.to_node],\n",
    "        srid,\n",
    "        ntw_id,\n",
    "        ntw_graph_id,\n",
    "        'distribution-pipe'\n",
    "    )"
   ]
  },
  {
   "cell_type": "markdown",
   "metadata": {},
   "source": [
    "Commit changes to database."
   ]
  },
  {
   "cell_type": "code",
   "execution_count": 13,
   "metadata": {},
   "outputs": [],
   "source": [
    "db_access.commit_citydb_session()"
   ]
  },
  {
   "cell_type": "markdown",
   "metadata": {},
   "source": [
    "Done."
   ]
  }
 ],
 "metadata": {
  "kernelspec": {
   "display_name": "Python 3",
   "language": "python",
   "name": "python3"
  },
  "language_info": {
   "codemirror_mode": {
    "name": "ipython",
    "version": 3
   },
   "file_extension": ".py",
   "mimetype": "text/x-python",
   "name": "python",
   "nbconvert_exporter": "python",
   "pygments_lexer": "ipython3",
   "version": "3.6.8"
  }
 },
 "nbformat": 4,
 "nbformat_minor": 2
}
