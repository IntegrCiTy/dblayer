{
 "cells": [
  {
   "cell_type": "markdown",
   "metadata": {},
   "source": [
    "# Example: Simulating a thermal network model stored in the extended 3DCityDB\n",
    "\n",
    "This example shows how to extract the information about a thermal network stored in the 3DCityDB and create a simulation model for [pandathermal](https://github.com/IntegrCiTy/PandaThermal) from it."
   ]
  },
  {
   "cell_type": "markdown",
   "metadata": {},
   "source": [
    "## Connecting to the database\n",
    "\n",
    "Define connection parameters."
   ]
  },
  {
   "cell_type": "code",
   "execution_count": 1,
   "metadata": {},
   "outputs": [],
   "source": [
    "from dblayer import *\n",
    "\n",
    "connect = PostgreSQLConnectionInfo(\n",
    "    user = 'postgres',\n",
    "    pwd = 'postgres',\n",
    "    host = 'localhost',\n",
    "    port = '5432',\n",
    "    dbname = 'testdb'\n",
    "    )"
   ]
  },
  {
   "cell_type": "markdown",
   "metadata": {},
   "source": [
    "Create an instance of class `PandaThermalModelDBReader`."
   ]
  },
  {
   "cell_type": "code",
   "execution_count": 2,
   "metadata": {},
   "outputs": [],
   "source": [
    "from dblayer.sim.pandathermal import *\n",
    "\n",
    "pth_reader = PandaThermalModelDBReader( connect )"
   ]
  },
  {
   "cell_type": "markdown",
   "metadata": {},
   "source": [
    "## Creating the simulation model\n",
    "\n",
    "Retrieve the simulation model."
   ]
  },
  {
   "cell_type": "code",
   "execution_count": 3,
   "metadata": {},
   "outputs": [],
   "source": [
    "net = pth_reader.get_net( network_id=2000 )"
   ]
  },
  {
   "cell_type": "markdown",
   "metadata": {},
   "source": [
    "Inspect the nodes of the simulation models, i.e., the thermal sources, sinks and pipe junctions."
   ]
  },
  {
   "cell_type": "code",
   "execution_count": 4,
   "metadata": {},
   "outputs": [
    {
     "data": {
      "text/plain": [
       "['source-SRC',\n",
       " 'sink-SNK1',\n",
       " 'sink-SNK2',\n",
       " 'sink-SNK3',\n",
       " 'sink-SNK4',\n",
       " 'sink-SNK5',\n",
       " 'sink-SNK6',\n",
       " 'sink-SNK7',\n",
       " 'sink-SNK8',\n",
       " 'sink-SNK9',\n",
       " 'node-N0',\n",
       " 'node-N1',\n",
       " 'node-N2',\n",
       " 'node-N3',\n",
       " 'node-N4',\n",
       " 'node-N5',\n",
       " 'node-N6']"
      ]
     },
     "execution_count": 4,
     "metadata": {},
     "output_type": "execute_result"
    }
   ],
   "source": [
    "list( net.nodes )"
   ]
  },
  {
   "cell_type": "markdown",
   "metadata": {},
   "source": [
    "Inspect the edges of the simulation model, i.e., the pipes."
   ]
  },
  {
   "cell_type": "code",
   "execution_count": 5,
   "metadata": {},
   "outputs": [
    {
     "data": {
      "text/plain": [
       "[('source-SRC', 'node-N0'),\n",
       " ('node-N0', 'sink-SNK1'),\n",
       " ('node-N0', 'node-N1'),\n",
       " ('node-N1', 'sink-SNK2'),\n",
       " ('node-N1', 'node-N2'),\n",
       " ('node-N2', 'sink-SNK3'),\n",
       " ('node-N2', 'sink-SNK4'),\n",
       " ('node-N2', 'sink-SNK5'),\n",
       " ('node-N2', 'node-N3'),\n",
       " ('node-N3', 'sink-SNK6'),\n",
       " ('node-N3', 'node-N4'),\n",
       " ('node-N4', 'sink-SNK7'),\n",
       " ('node-N4', 'node-N5'),\n",
       " ('node-N5', 'sink-SNK8'),\n",
       " ('node-N5', 'node-N6'),\n",
       " ('node-N6', 'sink-SNK9')]"
      ]
     },
     "execution_count": 5,
     "metadata": {},
     "output_type": "execute_result"
    }
   ],
   "source": [
    "list( net.edges )"
   ]
  },
  {
   "cell_type": "markdown",
   "metadata": {},
   "source": [
    "## Using the simulation model\n",
    "\n",
    "Calculate the maximal mass flows."
   ]
  },
  {
   "cell_type": "code",
   "execution_count": 6,
   "metadata": {},
   "outputs": [],
   "source": [
    "pipes_max_m_dot = pth.compute_pipes_max_m_dot( net, dt=40 )"
   ]
  },
  {
   "cell_type": "markdown",
   "metadata": {},
   "source": [
    "Plot the results from the mass flow calculations. "
   ]
  },
  {
   "cell_type": "code",
   "execution_count": 7,
   "metadata": {},
   "outputs": [
    {
     "data": {
      "image/png": "[encoded data removed]",
      "text/plain": [
       "<Figure size 432x288 with 1 Axes>"
      ]
     },
     "metadata": {},
     "output_type": "display_data"
    }
   ],
   "source": [
    "%matplotlib inline\n",
    "import matplotlib.pyplot as plt\n",
    "import networkx as nx\n",
    "\n",
    "thermal_nodes = pth_reader.sources + pth_reader.sinks + pth_reader.junctions\n",
    "thermal_nodes_pos = { n.name: pth_reader.geom_to_point2d( n.geom ).list() for n in thermal_nodes }\n",
    "\n",
    "nx.draw( net, thermal_nodes_pos, edge_color=list( pipes_max_m_dot.values() ), edge_cmap=plt.cm.coolwarm, width=3 )\n",
    "\n",
    "plt.show()"
   ]
  },
  {
   "cell_type": "markdown",
   "metadata": {},
   "source": [
    "Done."
   ]
  }
 ],
 "metadata": {
  "kernelspec": {
   "display_name": "Python 3",
   "language": "python",
   "name": "python3"
  },
  "language_info": {
   "codemirror_mode": {
    "name": "ipython",
    "version": 3
   },
   "file_extension": ".py",
   "mimetype": "text/x-python",
   "name": "python",
   "nbconvert_exporter": "python",
   "pygments_lexer": "ipython3",
   "version": "3.6.4"
  }
 },
 "nbformat": 4,
 "nbformat_minor": 2
}
