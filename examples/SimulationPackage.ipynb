{
 "cells": [
  {
   "cell_type": "markdown",
   "metadata": {},
   "source": [
    "# Writing and retrieving co-simulation setups\n",
    "\n",
    "This notebook shows how to write and retrieve co-simulation setups from a database.\n",
    "\n",
    "**Note**: In order to have the 3DCityDB populated with the data required for this example, run notebook [DBLayerBasics](./DBLayerBasics.ipynb) exactly once.\n",
    "\n",
    "## Example: A simple co-simulation setup\n",
    "\n",
    "For the following, consider that a co-simulation setup called `sim` has been defined with the help of the  [IntegrCiTy co-simulation deployment API](https://github.com/IntegrCiTy/ictdeploy):"
   ]
  },
  {
   "cell_type": "code",
   "execution_count": 1,
   "metadata": {},
   "outputs": [],
   "source": [
    "from ictdeploy import Simulator\n",
    "import os.path\n",
    "\n",
    "# Create simulation setup.\n",
    "sim = Simulator()\n",
    "\n",
    "# Add meta model.\n",
    "sim.edit.add_meta(\n",
    "  name = 'BaseMeta',\n",
    "  set_attrs = [ 'a' ],\n",
    "  get_attrs = [ 'b' ]\n",
    "  )\n",
    "\n",
    "# Add model based on meta model.\n",
    "sim.edit.add_model(\n",
    "  name = 'BaseModel',\n",
    "  meta = 'BaseMeta',\n",
    "  image = 'integrcity/ict-simple',\n",
    "  wrapper = os.path.join( 'tests', 'wrappers', 'base_wrap.py' ),\n",
    "  command = None,\n",
    "  files = [ os.path.join( 'tests', 'files_to_add', 'empty_file_for_testing_purpose.txt' ) ]\n",
    "  )\n",
    "\n",
    "# Add node based on model.\n",
    "sim.edit.add_node(\n",
    "  name = 'Base0',\n",
    "  model = 'BaseModel',\n",
    "  init_values = { 'c': 0.5 },\n",
    "  is_first = True\n",
    "  )\n",
    "\n",
    "# Add another node based on model.\n",
    "sim.edit.add_node(\n",
    "   name = 'Base1',\n",
    "   model = 'BaseModel',\n",
    "   init_values = { 'c': 0.25 }\n",
    "  )\n",
    "\n",
    "# Define links between nodes.\n",
    "sim.edit.add_link( get_node = 'Base0', get_attr = 'b', set_node = 'Base1', set_attr = 'a' )\n",
    "sim.edit.add_link( get_node = 'Base1', get_attr = 'b', set_node = 'Base0', set_attr = 'a' )\n",
    "\n",
    "# Define simulation groups and sequence.\n",
    "grp0 = sim.create_group( 'Base0' )\n",
    "grp1 = sim.create_group( 'Base1' )\n",
    "sim.create_sequence( grp0, grp1 )\n",
    "\n",
    "# Define simulation time steps.\n",
    "sim.create_steps( [60] * 10 )"
   ]
  },
  {
   "cell_type": "markdown",
   "metadata": {},
   "source": [
    "## Storing a co-simulation setup to the database\n",
    "\n",
    "Package DBLayer implements the mapping of the [Simulation Package](https://github.com/gioagu/3dcitydb_simulation_pkg) scheme to IntegrCiTy’s concepts for representing such a co-simulation setup, providing basically a persistence layer for co-simulation setups.\n",
    "For storing co-simulation setups to the extended 3DCityDB, package DBLayer provides class `DBWriter`.\n",
    "Upon connecting to the database, a co-simulation setup can be assigned a name and written to the database with the help of a single command.\n",
    "Setting parameters `write_meta_models` and `write_models` to `False` indicates that a co-simulation setup already defining meta-model `MetaBase` and model `BaseModel` have been previously written to the same database (otherwise the corresponding parameters should be omitted or set to `True`)."
   ]
  },
  {
   "cell_type": "code",
   "execution_count": 2,
   "metadata": {},
   "outputs": [],
   "source": [
    "from dblayer import *\n",
    "\n",
    "# Define connection parameters.\n",
    "connect = PostgreSQLConnectionInfo(\n",
    "    user = 'postgres',\n",
    "    pwd = 'postgres',\n",
    "    host = 'localhost',\n",
    "    port = '5432',\n",
    "    dbname = 'citydb'\n",
    "    )\n",
    "\n",
    "# Create writer and connect to database.\n",
    "writer = DBWriter( connect )\n",
    "\n",
    "# Write co-simulation setup to database.\n",
    "writer.write_to_db(\n",
    "    sim,\n",
    "    'TestSim1',\n",
    "    write_meta_models = True,\n",
    "    write_models = True\n",
    "    )"
   ]
  },
  {
   "cell_type": "markdown",
   "metadata": {},
   "source": [
    "## Retrieving co-simulation setups\n",
    "\n",
    "For reading co-simulation setups from the extended 3DCityDB, package DBLayer provides class `DBReader`.\n",
    "Upon connecting to the database, a co-simulation setup stored in the database can be referred to by name and retrieved with the help of a single command.\n",
    "In the example below, which simply reads back the co-simulation setup written in the previous example, the resulting object `sim_read` would be identical to object `sim` from above."
   ]
  },
  {
   "cell_type": "code",
   "execution_count": 3,
   "metadata": {},
   "outputs": [],
   "source": [
    "# Create reader and connect to database.\n",
    "reader = DBReader( connect )\n",
    "\n",
    "# Read co-simulation setup from database.\n",
    "sim_read = reader.read_from_db( 'TestSim1' )"
   ]
  },
  {
   "cell_type": "markdown",
   "metadata": {},
   "source": [
    "## Associate co-simulation setups with 3DCityDB data\n",
    "\n",
    "In the current IntegrCiTy toolchain, the association of co-simulation setups with 3DCityDB data happens first and foremost by using the available information to parametrize simulation models.\n",
    "In the context of urban energy systems simulation, this comprises not only scalar model parameters (e.g., U-values for walls) but also time-series data as provided via the Energy ADE (e.g., electrical load profiles).\n",
    "\n",
    "The rather trivial approach for such an association is to directly retrieve certain values (according to the example above) and setting them as initial values when defining the co-simulation setup.\n",
    "\n",
    "However, package DBLayer and the Simulation Package also allow to persistently store associations with attributes of 3DCityDB objects and generic parameters.\n",
    "This is demonstrated in the following pseudo code snippet, which basically extends the co-simulation setup shown above by defining an instance of class `AssociateCityDBObject` and assigning it to parameter `c` of node `Base0`."
   ]
  },
  {
   "cell_type": "code",
   "execution_count": 4,
   "metadata": {},
   "outputs": [],
   "source": [
    "# Create access point.\n",
    "access = DBAccess()\n",
    "\n",
    "# Connect to database.\n",
    "access.connect_to_citydb( connect )\n",
    "\n",
    "# Query the database using the conditions defined above.\n",
    "heatpumps = access.get_citydb_objects( 'HeatPump' )\n",
    "heatpump_id = heatpumps[0].id\n",
    "\n",
    "# Define table and attribute (table column) name for association.\n",
    "table = 'citydb_view.nrg8_conv_system_heat_pump'\n",
    "attribute = 'nom_effcy'\n",
    "\n",
    "# Define association with the help of the object ID (table row).\n",
    "associate_object = AssociateCityDBObject(\n",
    "    table_name = table,\n",
    "    object_id = heatpump_id,\n",
    "    column_name = attribute\n",
    "    )\n",
    "\n",
    "# Link attribute \"c\" of \"Base0\" with the association.\n",
    "sim.edit.nodes.loc[ 'Base0' ].init_values[ 'c' ] = associate_object\n",
    "\n",
    "# Write the co-simulation setup to the database (storing the association).\n",
    "writer.write_to_db(\n",
    "    sim,\n",
    "    'TestSim2',\n",
    "    write_meta_models = False,\n",
    "    write_models = False\n",
    "    )"
   ]
  },
  {
   "cell_type": "markdown",
   "metadata": {},
   "source": [
    "Done."
   ]
  }
 ],
 "metadata": {
  "kernelspec": {
   "display_name": "Python 3",
   "language": "python",
   "name": "python3"
  },
  "language_info": {
   "codemirror_mode": {
    "name": "ipython",
    "version": 3
   },
   "file_extension": ".py",
   "mimetype": "text/x-python",
   "name": "python",
   "nbconvert_exporter": "python",
   "pygments_lexer": "ipython3",
   "version": "3.6.8"
  }
 },
 "nbformat": 4,
 "nbformat_minor": 2
}
