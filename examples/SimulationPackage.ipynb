{
 "cells": [
  {
   "cell_type": "markdown",
   "metadata": {},
   "source": [
    "# Writing and retrieving co-simulation setups\n",
    "\n",
    "This notebook shows how to write and retrieve co-simulation setups from a database.\n",
    "\n",
    "**Note**: In order to have the 3DCityDB populated with the data required for this example, run notebook [DBLayerBasics](./DBLayerBasics.ipynb) exactly once.\n",
    "\n",
    "## Example: A simple co-simulation setup\n",
    "\n",
    "In the following, a simple co-simulation setup called `sim` is defined with the help of the [IntegrCiTy co-simulation platform](https://github.com/IntegrCiTy/zerobnl) (see also the [minimal example](https://github.com/IntegrCiTy/zerobnl/blob/develop/examples/MinimalExample/MinimalExample.ipynb) of package *zerobnl*)"
   ]
  },
  {
   "cell_type": "code",
   "execution_count": 1,
   "metadata": {},
   "outputs": [],
   "source": [
    "import zerobnl\n",
    "import os.path\n",
    "\n",
    "# Create simulation setup.\n",
    "sim = zerobnl.CoSim()\n",
    "\n",
    "# Add meta model.\n",
    "sim.create_meta_model(\n",
    "    meta_model = 'MetaBase',\n",
    "    list_of_attrs_to_set = [ ( 'a', 'unit' ) ],\n",
    "    list_of_attrs_to_get = [ ( 'b', 'unit' ) ]\n",
    ")\n",
    "\n",
    "# Add environment for instances of the meta model.\n",
    "sim.create_environment(\n",
    "    env = 'EnvBase',\n",
    "    wrapper = os.path.join( 'cosim', 'wrapper_base.py' ),\n",
    "    dockerfile = os.path.join( 'cosim', 'Dockerfile_base' )\n",
    ")\n",
    "\n",
    "# Add node based on meta model and environment.\n",
    "sim.add_node(\n",
    "    node = 'Base0',\n",
    "    meta = 'MetaBase',\n",
    "    env = 'EnvBase',\n",
    "    init_values = { 'c': .5 },\n",
    "    files = [ os.path.join( 'cosim', 'dummy_file.txt' ) ]\n",
    ")\n",
    "\n",
    "# Add another node based on meta model and environment.\n",
    "sim.add_node(\n",
    "    node = 'Base1',\n",
    "    meta = 'MetaBase',\n",
    "    env = 'EnvBase',\n",
    "    init_values = { 'c': .25 }\n",
    ")\n",
    "\n",
    "# Define links between nodes.\n",
    "sim.add_link( get_node = 'Base0', get_attr = 'b', set_node = 'Base1', set_attr = 'a' )\n",
    "sim.add_link( get_node = 'Base1', get_attr = 'b', set_node = 'Base0', set_attr = 'a' )\n",
    "\n",
    "# Define simulation groups and sequence.\n",
    "sim.create_sequence( [ [ 'Base0' ], [ 'Base1' ] ] )\n",
    "\n",
    "# Define simulation time steps.\n",
    "sim.set_time_unit( 'seconds' )\n",
    "sim.create_steps( [15] * 4 * 60 )"
   ]
  },
  {
   "cell_type": "markdown",
   "metadata": {},
   "source": [
    "## Storing a co-simulation setup to the database\n",
    "\n",
    "Package DBLayer implements the mapping of the [Simulation Package](https://github.com/gioagu/3dcitydb_simulation_pkg) scheme to IntegrCiTy’s concepts for representing such a co-simulation setup, providing basically a persistence layer for co-simulation setups.\n",
    "For storing zerobnl co-simulation setups to the extended 3DCityDB, package DBLayer provides class `DBWriter`."
   ]
  },
  {
   "cell_type": "code",
   "execution_count": 2,
   "metadata": {},
   "outputs": [],
   "source": [
    "from dblayer.zerobnl import *\n",
    "\n",
    "# Define connection parameters.\n",
    "connect = PostgreSQLConnectionInfo(\n",
    "    user = 'postgres',\n",
    "    pwd = 'postgres',\n",
    "    host = 'localhost',\n",
    "    port = '5432',\n",
    "    dbname = 'citydb'\n",
    "    )\n",
    "\n",
    "# Create writer and connect to database.\n",
    "writer = DBWriter( connect )"
   ]
  },
  {
   "cell_type": "markdown",
   "metadata": {},
   "source": [
    "For the purpose of this notebook, no other co-simulation setups should be stored on the 3DCityDB with . To this end, the next line erases all data regarding co-simulation setups from the database. **Only execute the next line if you really want to erase all data regarding co-simulation setups from your database!**"
   ]
  },
  {
   "cell_type": "code",
   "execution_count": 3,
   "metadata": {},
   "outputs": [],
   "source": [
    "writer.cleanup_simpkg_schema()"
   ]
  },
  {
   "cell_type": "markdown",
   "metadata": {},
   "source": [
    "Upon connecting to the database, a co-simulation setup can be assigned a name and written to the database with the help of a single command.\n",
    "Setting parameters `write_meta_models` and `write_envs` to `False` indicates that a co-simulation setup already defining meta-model `MetaBase` and model `EnvBase` have been previously written to the same database (otherwise the corresponding parameters should be omitted or set to `True`)."
   ]
  },
  {
   "cell_type": "code",
   "execution_count": 4,
   "metadata": {},
   "outputs": [],
   "source": [
    "# Write co-simulation setup to database.\n",
    "writer.write_to_db(\n",
    "    sim,\n",
    "    'TestSim1',\n",
    "    write_meta_models = True,\n",
    "    write_envs = True\n",
    "    )\n",
    "\n",
    "del sim"
   ]
  },
  {
   "cell_type": "markdown",
   "metadata": {},
   "source": [
    "## Retrieving and running co-simulation setups\n",
    "\n",
    "For reading co-simulation setups from the extended 3DCityDB, package DBLayer provides class `DBReader`.\n",
    "Upon connecting to the database, a co-simulation setup stored in the database can be referred to by name and retrieved with the help of a single command.\n",
    "In the example below, which simply reads back the co-simulation setup written in the previous example, the resulting object `sim_read` would be identical to object `sim` from above."
   ]
  },
  {
   "cell_type": "code",
   "execution_count": 5,
   "metadata": {},
   "outputs": [],
   "source": [
    "# Create reader and connect to database.\n",
    "reader = DBReader( connect )\n",
    "\n",
    "# Read co-simulation setup from database.\n",
    "sim_read = reader.read_from_db( 'TestSim1' )"
   ]
  },
  {
   "cell_type": "markdown",
   "metadata": {},
   "source": [
    "This co-simulation setup is ready to be used:"
   ]
  },
  {
   "cell_type": "code",
   "execution_count": 6,
   "metadata": {},
   "outputs": [
    {
     "name": "stderr",
     "output_type": "stream",
     "text": [
      "INFO :: Simulation finished in 0 min and 7 sec\n"
     ]
    },
    {
     "data": {
      "text/html": [
       "<div>\n",
       "<style scoped>\n",
       "    .dataframe tbody tr th:only-of-type {\n",
       "        vertical-align: middle;\n",
       "    }\n",
       "\n",
       "    .dataframe tbody tr th {\n",
       "        vertical-align: top;\n",
       "    }\n",
       "\n",
       "    .dataframe thead th {\n",
       "        text-align: right;\n",
       "    }\n",
       "</style>\n",
       "<table border=\"1\" class=\"dataframe\">\n",
       "  <thead>\n",
       "    <tr style=\"text-align: right;\">\n",
       "      <th></th>\n",
       "      <th>IN/OUT</th>\n",
       "      <th>Node</th>\n",
       "      <th>Attribute</th>\n",
       "    </tr>\n",
       "  </thead>\n",
       "  <tbody>\n",
       "    <tr>\n",
       "      <td>0</td>\n",
       "      <td>OUT</td>\n",
       "      <td>Base1</td>\n",
       "      <td>b</td>\n",
       "    </tr>\n",
       "    <tr>\n",
       "      <td>1</td>\n",
       "      <td>X</td>\n",
       "      <td>Base0</td>\n",
       "      <td>y</td>\n",
       "    </tr>\n",
       "    <tr>\n",
       "      <td>2</td>\n",
       "      <td>X</td>\n",
       "      <td>Base1</td>\n",
       "      <td>y</td>\n",
       "    </tr>\n",
       "    <tr>\n",
       "      <td>3</td>\n",
       "      <td>OUT</td>\n",
       "      <td>Base0</td>\n",
       "      <td>b</td>\n",
       "    </tr>\n",
       "  </tbody>\n",
       "</table>\n",
       "</div>"
      ],
      "text/plain": [
       "  IN/OUT   Node Attribute\n",
       "0    OUT  Base1         b\n",
       "1      X  Base0         y\n",
       "2      X  Base1         y\n",
       "3    OUT  Base0         b"
      ]
     },
     "execution_count": 6,
     "metadata": {},
     "output_type": "execute_result"
    }
   ],
   "source": [
    "sim_read.run()\n",
    "sim_read.connect_to_results_db()\n",
    "sim_read.get_list_of_available_results()"
   ]
  },
  {
   "cell_type": "markdown",
   "metadata": {},
   "source": [
    "## Associate co-simulation setups with 3DCityDB data\n",
    "\n",
    "In the current IntegrCiTy toolchain, the association of co-simulation setups with 3DCityDB data happens first and foremost by using the available information to parametrize simulation models.\n",
    "In the context of urban energy systems simulation, this comprises not only scalar model parameters (e.g., U-values for walls) but also time-series data as provided via the Energy ADE (e.g., electrical load profiles).\n",
    "\n",
    "The rather trivial approach for such an association is to directly retrieve certain values and setting them as initial values when defining the co-simulation setup.\n",
    "However, package DBLayer and the Simulation Package also allow to persistently store associations with attributes of 3DCityDB objects and generic parameters.\n",
    "This is demonstrated in the following code snippet, which basically extends the co-simulation setup shown above by defining an instance of class `AssociateCityDBObject` and assigning it to parameter `c` of node `Base0`."
   ]
  },
  {
   "cell_type": "code",
   "execution_count": 7,
   "metadata": {},
   "outputs": [],
   "source": [
    "# Create access point.\n",
    "access = DBAccess()\n",
    "\n",
    "# Connect to database.\n",
    "access.connect_to_citydb( connect )\n",
    "\n",
    "# Query the database using the conditions defined above.\n",
    "heatpumps = access.get_citydb_objects( 'HeatPump' )\n",
    "heatpump_id = heatpumps[0].id\n",
    "\n",
    "# Define table and attribute (table column) name for association.\n",
    "table = 'citydb_view.nrg8_conv_system_heat_pump'\n",
    "attribute = 'nom_effcy'\n",
    "\n",
    "# Define association with the help of the object ID (table row).\n",
    "associate_object = AssociateCityDBObject(\n",
    "    table_name = table,\n",
    "    object_id = heatpump_id,\n",
    "    column_name = attribute\n",
    "    )\n",
    "\n",
    "# Link attribute \"c\" of \"Base0\" with the association.\n",
    "sim_read.nodes.loc[ 'Base0' ].InitVal[ 'c' ] = associate_object\n",
    "\n",
    "# Write the co-simulation setup to the database (storing the association).\n",
    "writer.write_to_db(\n",
    "    sim_read,\n",
    "    'TestSim2',\n",
    "    write_meta_models = False,\n",
    "    write_envs = False\n",
    "    )"
   ]
  },
  {
   "cell_type": "markdown",
   "metadata": {},
   "source": [
    "When retrieving a co-simulation setup with the help of class `DBReader` (see above), the link to the associated object is automatically resolved and the associated value is used."
   ]
  },
  {
   "cell_type": "code",
   "execution_count": 8,
   "metadata": {},
   "outputs": [
    {
     "name": "stdout",
     "output_type": "stream",
     "text": [
      "1.2\n"
     ]
    }
   ],
   "source": [
    "del sim_read\n",
    "\n",
    "sim_read = reader.read_from_db( 'TestSim2' )\n",
    "\n",
    "print( sim_read.nodes.loc[ 'Base0' ].InitVal[ 'c' ] )"
   ]
  },
  {
   "cell_type": "markdown",
   "metadata": {},
   "source": [
    "Done."
   ]
  }
 ],
 "metadata": {
  "kernelspec": {
   "display_name": "Python 3",
   "language": "python",
   "name": "python3"
  },
  "language_info": {
   "codemirror_mode": {
    "name": "ipython",
    "version": 3
   },
   "file_extension": ".py",
   "mimetype": "text/x-python",
   "name": "python",
   "nbconvert_exporter": "python",
   "pygments_lexer": "ipython3",
   "version": "3.6.8"
  }
 },
 "nbformat": 4,
 "nbformat_minor": 2
}
