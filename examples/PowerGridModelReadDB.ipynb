{
 "cells": [
  {
   "cell_type": "markdown",
   "metadata": {},
   "source": [
    "# Example: Reading a power grid model from the extended 3DCityDB\n",
    "This example shows how to read a power grid model to the extended 3DCityDB, using the `dblayer` package. Furthermore, it shows how to use the retrieved *topographical* and *topological* data to visualize the power grid model.\n",
    "\n",
    "Basic knowledge about [CityGML](http://www.citygmlwiki.org) and the [Utility Network ADE](https://en.wiki.utilitynetworks.sig3d.org) are required for this notebook. A nice overview of the of the basic concepts of the Utility Network ADE can be found [here](https://en.wiki.utilitynetworks.sig3d.org/images/upload/20160913_-_Kolbe_-_Modeling_3D_Utility_Networks_%2B_UtilityNetwork_ADE_Core_Model.pdf).\n",
    "\n",
    "**Note**: In order to have the 3DCityDB populated with the data required for this example, run notebook *PowerGridModelWriteDB*."
   ]
  },
  {
   "cell_type": "code",
   "execution_count": null,
   "metadata": {},
   "outputs": [],
   "source": [
    "from dblayer import *\n",
    "from dblayer.func.func_postgis_geom import *\n",
    "from sqlalchemy import or_"
   ]
  },
  {
   "cell_type": "markdown",
   "metadata": {},
   "source": [
    "## Connecting to the database\n",
    "Define connection parameters for 3DCityDB instance."
   ]
  },
  {
   "cell_type": "code",
   "execution_count": null,
   "metadata": {},
   "outputs": [],
   "source": [
    "connect = PostgreSQLConnectionInfo(\n",
    "    user = 'postgres',\n",
    "    pwd = 'postgres',\n",
    "    host = 'localhost',\n",
    "    port = '5432',\n",
    "    dbname = 'testdb'\n",
    "    )"
   ]
  },
  {
   "cell_type": "markdown",
   "metadata": {},
   "source": [
    "Connect to database using an instance of class `DBAccess`."
   ]
  },
  {
   "cell_type": "code",
   "execution_count": null,
   "metadata": {},
   "outputs": [],
   "source": [
    "access = DBAccess()\n",
    "access.connect_to_citydb(connect)"
   ]
  },
  {
   "cell_type": "markdown",
   "metadata": {},
   "source": [
    "## Reading data from the database\n",
    "Package `dblayer` uses an object-oriented apporach for representing and retrieving information from the 3DCityDB. This means that every object defined in the database schema (e.g., `Building`, `EnergyResource`, `Cable`) is mapped to a class, whose variables correspond to the object attributes.\n",
    "\n",
    "Therefore, before actually reading the data, the classes have to be mapped. This can be done automatically, in which case the mapping between objects and classes uses the standard `citydb` scheme. However, retrieving the mappting from this representation has some drawbacks:\n",
    " * For most objects, the data is \"fragmented\" over several tables. For instance, object `HeatPump` is a specialization of object `EnergyConversionSystem`. Therefore table `nrg8_heat_pump` holds only the attributes specific to `HeatPump`, all attributes it shares with `EnergyConversionSystem` are stored in table `nrg8_conv_system`.\n",
    " * Some tables are used for more than one type of object. For instance, objects `Cable` and `Canal` are written to the same table `utn9_distrib_element`.\n",
    "\n",
    "Fortunately, the extended 3DCityDB finds a remedy for this situation: The `citydb_view` schema defines so-called [views](https://en.wikipedia.org/wiki/View_(SQL)) that present the information in a more complete manner. However, the database contains no information about which types are represented in which views, which is why the user has to provide this information.\n",
    "\n",
    "Therefore, in the following lines the relevant classes are mapped from their respective views."
   ]
  },
  {
   "cell_type": "code",
   "execution_count": null,
   "metadata": {},
   "outputs": [],
   "source": [
    "SimpleFunctionalElement = access.map_citydb_object_class( 'SimpleFunctionalElement',\n",
    "    table_name='utn9_ntw_feat_simple_funct_elem', schema='citydb_view'\n",
    "    )\n",
    "    \n",
    "ComplexFunctionalElement = access.map_citydb_object_class( 'ComplexFunctionalElement',\n",
    "    table_name='utn9_ntw_feat_complex_funct_elem', schema='citydb_view'\n",
    "    )\n",
    "\n",
    "TerminalElement = access.map_citydb_object_class( 'TerminalElement',\n",
    "    table_name='utn9_ntw_feat_term_elem', schema='citydb_view'\n",
    "    )\n",
    "\n",
    "Cable = access.map_citydb_object_class( 'Cable',\n",
    "    table_name='utn9_ntw_feat_distrib_elem_cable', schema='citydb_view'\n",
    "    )\n",
    "    \n",
    "Node = access.map_citydb_object_class( 'Node',\n",
    "    table_name='utn9_node', schema='citydb_view'\n",
    "    )\n",
    "\n",
    "InteriorFeatureLink = access.map_citydb_object_class( 'InteriorFeatureLink',\n",
    "    table_name='utn9_link_interior_feature', schema='citydb_view'\n",
    "    )\n",
    "\n",
    "InterFeatureLink = access.map_citydb_object_class( 'InterFeatureLink',\n",
    "    table_name='utn9_link_interfeature', schema='citydb_view'\n",
    "    )"
   ]
  },
  {
   "cell_type": "markdown",
   "metadata": {},
   "source": [
    "After the mapping, the data itself can be retrieved using function `get_citydb_objects` of class `DBAccess`.\n",
    "\n",
    "When retrieving the data, it is possible to specify additional selection criteria. For instance, both *busses* and *switches* are stored as `SimpleFunctionalElement`, but with different `class` attributes. Therefore, when retrieving the busses, the additional condition of being either a *busbar*, *plate*, *supply point* or *pole* is defined."
   ]
  },
  {
   "cell_type": "code",
   "execution_count": null,
   "metadata": {},
   "outputs": [],
   "source": [
    "busses = access.get_citydb_objects( 'SimpleFunctionalElement',\n",
    "    conditions = [ \n",
    "        or_(\n",
    "            getattr( SimpleFunctionalElement, 'class' ) == 'busbar',\n",
    "            getattr( SimpleFunctionalElement, 'class' ) == 'plate',\n",
    "            getattr( SimpleFunctionalElement, 'class' ) == 'supply point',\n",
    "            getattr( SimpleFunctionalElement, 'class' ) == 'pole'\n",
    "            )\n",
    "        ]\n",
    "    )\n",
    "\n",
    "lines = access.get_citydb_objects( 'Cable' )\n",
    "\n",
    "loads = access.get_citydb_objects( 'TerminalElement',\n",
    "    conditions = [ getattr( TerminalElement, 'class' ) == 'load' ]\n",
    "    )\n",
    "\n",
    "transformers = access.get_citydb_objects( 'ComplexFunctionalElement',\n",
    "    conditions = [ getattr( ComplexFunctionalElement, 'class' ) == 'transformer' ]\n",
    "    )\n",
    "\n",
    "switches = access.get_citydb_objects( 'SimpleFunctionalElement',\n",
    "    conditions = [ getattr( SimpleFunctionalElement, 'class' ) == 'switch' ]\n",
    "    )\n",
    "\n",
    "external_grid = access.get_citydb_objects( 'TerminalElement',\n",
    "    conditions = [ getattr( TerminalElement, 'class' ) == 'external-grid' ]\n",
    "    )\n",
    "\n",
    "feature_graphs = access.get_citydb_objects( 'FeatureGraph' )\n",
    "\n",
    "nodes = access.get_citydb_objects( 'Node' )\n",
    "\n",
    "interior_feature_links = access.get_citydb_objects( 'InteriorFeatureLink' )\n",
    "\n",
    "inter_feature_links = access.get_citydb_objects( 'InterFeatureLink' )"
   ]
  },
  {
   "cell_type": "markdown",
   "metadata": {},
   "source": [
    "## Working with the data\n",
    "As mentioned above, all data is stored as objects, with their respective data attributes as variables with the corresponding name.\n",
    "\n",
    "This makes it easy to work with this data. For instance, one can easily compile dictionaries of *network features*, *feature graphs* and *feature graph nodes*:"
   ]
  },
  {
   "cell_type": "code",
   "execution_count": null,
   "metadata": {},
   "outputs": [],
   "source": [
    "# Map network features to their respective IDs.\n",
    "network_features = { feature.id: feature for feature in ( busses + lines + transformers + switches + external_grid + loads ) }\n",
    "\n",
    "# Map feature graph IDs to their associated network feature IDs.\n",
    "feature_ids = { feature_graph.id: feature_graph.ntw_feature_id  for feature_graph in feature_graphs }\n",
    "\n",
    "# Map feature graph node IDs to the name of the feature graph node.\n",
    "node_names = { node.id : node.name for node in nodes }"
   ]
  },
  {
   "cell_type": "markdown",
   "metadata": {},
   "source": [
    "### Exploring the topological data\n",
    "All components of the power grid model are associated to *network features*, which basically hold the topographical information. These network features are assocaited to *feature graphs*, which hold the topological information. Feature graphs are constructed from *feature graph nodes*. These nodes can be either linked with a feature graphs (*interior links*) or to nodes of other feature graphs (*inter feature links*).\n",
    "\n",
    "The following code shows how to use this topological information. With the help of package `networkx`, a graph of all nodes and links is created. Different links (interior vs. inter feature links) are shown in different colors. Nodes associated to different types of network features are shown in different colors, too.\n",
    "\n",
    "**Note**: The figure should be plotted in \"interactive mode\", making it possible to zoom in. This allows to explore the topological graph in more detail (e.g., types of links connecting different types of nodes)."
   ]
  },
  {
   "cell_type": "code",
   "execution_count": null,
   "metadata": {},
   "outputs": [],
   "source": [
    "import networkx as nx\n",
    "\n",
    "def get_node_color( feature_graph_id ):\n",
    "    feature_color_map = {\n",
    "        'Cable': 'g',\n",
    "        'SimpleFunctionalElement': 'm',\n",
    "        'ComplexFunctionalElement': 'r',\n",
    "        'TerminalElement': 'c'\n",
    "        }\n",
    "    feature_id = feature_ids[ feature_graph_id ]\n",
    "    feature_type = network_features[ feature_id ].classname\n",
    "    return feature_color_map[ feature_type ]\n",
    "\n",
    "def get_link_color( link_type ):\n",
    "    link_color_map = {\n",
    "        'interior': 'g',\n",
    "        'inter': 'b'\n",
    "        }\n",
    "    return link_color_map[ link_type ]\n",
    "\n",
    "# Create new networkx graph.\n",
    "g = nx.Graph()\n",
    "\n",
    "# Add all feature graph nodes as nodes of the networks graph. Define different\n",
    "# color attributes depending on what type of network feature they are associated to.\n",
    "g.add_nodes_from(\n",
    "    [ ( node_names[node.id], { 'color': get_node_color( node.feat_graph_id ) } ) for node in nodes ]\n",
    ")\n",
    "\n",
    "# Add all inter feature links as edges of the networks graph.\n",
    "g.add_edges_from( \n",
    "    [ ( node_names[link.start_node_id], node_names[link.end_node_id] ) for link in interior_feature_links ],\n",
    "    link_type = 'interior',\n",
    "    color = get_link_color( 'interior')\n",
    "    )\n",
    "\n",
    "# Add all interior links as edges of the networks graph.\n",
    "g.add_edges_from(\n",
    "    [ ( node_names[link.start_node_id], node_names[link.end_node_id] ) for link in inter_feature_links ],\n",
    "    link_type = 'inter', \n",
    "    color = get_link_color( 'inter')\n",
    "    )\n",
    "\n",
    "# Import matplotlib package.\n",
    "%matplotlib notebook\n",
    "import matplotlib.pyplot as plt\n",
    "\n",
    "# Extract color attributes from nodes and edges.\n",
    "edge_colors = [ g[u][v]['color'] for u,v in g.edges() ]\n",
    "node_colors = [ g.nodes[n]['color'] for n in g.nodes() ]\n",
    "\n",
    "# Draw the graph.\n",
    "pos = nx.spring_layout( g, scale = 0.5, iterations = 5000 )\n",
    "nx.draw( g, pos, with_labels=True, node_color=node_colors, edge_color=edge_colors, width=2 )\n",
    "\n",
    "# In addition, add the link type (inter/interior) as label for all edges.\n",
    "edge_labels = nx.get_edge_attributes( g, 'link_type' )\n",
    "nx.draw_networkx_edge_labels( g, pos, edge_labels )\n",
    "\n",
    "# Show the figure.\n",
    "plt.draw()"
   ]
  },
  {
   "cell_type": "markdown",
   "metadata": {},
   "source": [
    "### Exploring the topographical data\n",
    "As mentioned above, all components of the power grid model are associated to network features, which basically hold the topographical information. This data is for instance useful to calculate line lengths or visualize the network. The latter is demonstrated in the next example.\n",
    "\n",
    "Note: The figure should be plotted in \"interactive mode\", making it possible to zoom in. This allows to explore the topographical view in more detail (especially at the origin of the figure)."
   ]
  },
  {
   "cell_type": "code",
   "execution_count": null,
   "metadata": {},
   "outputs": [],
   "source": [
    "%matplotlib notebook\n",
    "from matplotlib.path import Path\n",
    "import matplotlib.patches as patches\n",
    "from pygeoif import from_wkt\n",
    "\n",
    "fig, ax = plt.subplots()\n",
    "\n",
    "#\n",
    "# The following lines extract the geometric data from the various\n",
    "# types of network features defined in the power grid model.\n",
    "#\n",
    "\n",
    "line_plt = []\n",
    "for line in lines:\n",
    "    line_geom_wkt = access.execute_function( geom_as_text( line.geom ) )\n",
    "    line_coords = from_wkt( line_geom_wkt ).coords\n",
    "    verts = [ ( c[0], c[1] ) for c in line_coords ]\n",
    "    codes = [ Path.MOVETO, Path.LINETO ]    \n",
    "    line_plt.append( Path( verts, codes ) )\n",
    "\n",
    "transformer_plt = []\n",
    "for transformer in transformers:\n",
    "    transformer_geom_wkt = access.execute_function( geom_as_text( transformer.geom ) )\n",
    "    transformer_coords = from_wkt( transformer_geom_wkt ).coords\n",
    "    verts = [ ( c[0], c[1] ) for c in transformer_coords ]\n",
    "    codes = [ Path.MOVETO, Path.LINETO ]    \n",
    "    transformer_plt.append( Path( verts, codes ) )\n",
    "\n",
    "switch_plt = []\n",
    "for switch in switches:\n",
    "    switch_geom_wkt = access.execute_function( geom_as_text( switch.geom ) )\n",
    "    switch_coords = from_wkt( switch_geom_wkt ).coords\n",
    "    verts = [ ( c[0], c[1] ) for c in switch_coords ]\n",
    "    codes = [ Path.MOVETO, Path.LINETO ]    \n",
    "    switch_plt.append( Path( verts, codes ) )\n",
    "\n",
    "bus_plt = []\n",
    "for bus in busses:\n",
    "    bus_geom_wkt = access.execute_function( geom_as_text( bus.geom ) )\n",
    "    bus_coords = from_wkt( bus_geom_wkt ).coords\n",
    "    bus_plt.append( [ bus_coords[0][0], bus_coords[0][1] ] )\n",
    "\n",
    "load_plt = []\n",
    "for load in loads:\n",
    "    load_geom_wkt = access.execute_function( geom_as_text( load.geom ) )\n",
    "    load_coords = from_wkt( load_geom_wkt ).coords\n",
    "    load_plt.append( [ load_coords[0][0], load_coords[0][1] ] )\n",
    "\n",
    "#\n",
    "# The remaining lines call matplotlib and add all elements to the plot.\n",
    "#\n",
    "\n",
    "for path in line_plt:\n",
    "    patch = patches.PathPatch( path, edgecolor='black', lw=2 )\n",
    "    ax.add_patch( patch )\n",
    "\n",
    "for path in transformer_plt:\n",
    "    patch = patches.PathPatch( path, edgecolor='orange', lw=2 )\n",
    "    ax.add_patch( patch )\n",
    "\n",
    "for path in switch_plt:\n",
    "    patch = patches.PathPatch( path, edgecolor='blue', lw=2 )\n",
    "    ax.add_patch( patch )\n",
    "\n",
    "plt.plot( *zip(*bus_plt), marker='o', color='r', ls='')\n",
    "plt.plot( *zip(*load_plt), marker='o',  markersize=8, color='g', ls='')\n",
    "\n",
    "ax.set_xlim(-250,330)\n",
    "ax.set_ylim(-120,220)\n",
    "\n",
    "plt.show()"
   ]
  },
  {
   "cell_type": "markdown",
   "metadata": {},
   "source": [
    "That's all, folks!"
   ]
  }
 ],
 "metadata": {
  "kernelspec": {
   "display_name": "Python 3",
   "language": "python",
   "name": "python3"
  },
  "language_info": {
   "codemirror_mode": {
    "name": "ipython",
    "version": 3
   },
   "file_extension": ".py",
   "mimetype": "text/x-python",
   "name": "python",
   "nbconvert_exporter": "python",
   "pygments_lexer": "ipython3",
   "version": "3.6.4"
  }
 },
 "nbformat": 4,
 "nbformat_minor": 2
}
