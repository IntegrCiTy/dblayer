{
 "cells": [
  {
   "cell_type": "markdown",
   "metadata": {},
   "source": [
    "# Accessing the 3DCityDB\n",
    "\n",
    "This notebook gives basic examples of how to interact with the 3DCityDB through the **DBLayer** package.\n",
    "\n",
    "## Connecting to the database\n",
    "\n",
    "Accessing the database is achieved through class `DBAccess`, which allows to connect to an instance of the extended 3DCityDB by calling function `connect_to_citydb` using an instance of `PostgreSQLConnectionInfo`:"
   ]
  },
  {
   "cell_type": "code",
   "execution_count": 1,
   "metadata": {},
   "outputs": [],
   "source": [
    "from dblayer import *\n",
    "\n",
    "# Define connection parameters.\n",
    "connect = PostgreSQLConnectionInfo(\n",
    "    user = 'postgres',\n",
    "    pwd = 'postgres',\n",
    "    host = 'localhost',\n",
    "    port = '5432',\n",
    "    dbname = 'testdb'\n",
    "    )\n",
    "\n",
    "# Create access point.\n",
    "db_access = DBAccess()\n",
    "\n",
    "# Connect to database.\n",
    "db_access.connect_to_citydb( connect )"
   ]
  },
  {
   "cell_type": "markdown",
   "metadata": {},
   "source": [
    "For the purpose of this notebook you might want to use an empty 3DCityDB. To this end, the next two lines erase all data from an existing database. **Only execute the next two lines if you really want to erase all data from your database!**"
   ]
  },
  {
   "cell_type": "code",
   "execution_count": 2,
   "metadata": {},
   "outputs": [],
   "source": [
    "db_access.cleanup_citydb_schema()\n",
    "db_access.cleanup_simpkg_schema()"
   ]
  },
  {
   "cell_type": "markdown",
   "metadata": {},
   "source": [
    "## Storing data to the database\n",
    "\n",
    "After a successful connection, class `DBAccess` offers several functions enabling a user-friendly interaction with the database.\n",
    "For instance, an important feature is that the SQL functions of the extended 3DCityDB can be called to insert new objects.\n",
    "The following code snippet demonstrates how a new heat pump object is inserted using SQL function `insert_heat_pump`."
   ]
  },
  {
   "cell_type": "code",
   "execution_count": 3,
   "metadata": {},
   "outputs": [],
   "source": [
    "from dblayer.func.func_citydb_view_nrg import *\n",
    "\n",
    "# Add a new entry to the databse using SQL function \"insert_heat_pump\".\n",
    "hp_id = db_access.add_citydb_object(\n",
    "    insert_heat_pump,\n",
    "    name = 'HEATPUMP_01',\n",
    "    nom_effcy = 1.2,\n",
    "    effcy_indicator = 'COP'\n",
    "    )"
   ]
  },
  {
   "cell_type": "markdown",
   "metadata": {},
   "source": [
    "Finally, these changes are committed permanently to the database."
   ]
  },
  {
   "cell_type": "code",
   "execution_count": 4,
   "metadata": {},
   "outputs": [],
   "source": [
    "db_access.commit_citydb_session()"
   ]
  },
  {
   "cell_type": "markdown",
   "metadata": {},
   "source": [
    "**Note**: Package `DBLayer` also provides specialized functions for storing domain-specific data. Notebooks [PowerGridModelWriteDB](./PowerGridModelWriteDB.ipynb), [ThermalNetworkModelWriteDB](./ThermalNetworkModelWriteDB.ipynb) and [GasNetworkModelWriteDB](./GasNetworkModelWriteDB.ipynb) show how they work."
   ]
  },
  {
   "cell_type": "markdown",
   "metadata": {},
   "source": [
    "## Reading data from the database\n",
    "\n",
    "Class `DBAccess` provides several ways of accessing and querying data from the database.\n",
    "The following example shows how heat pump data can be retrieved from an *updatable view*.\n",
    "First, class `HeatPump` is associated with the view `citydb_view.nrg8_conv_system_heat_pump`.\n",
    "This association is then used to refine conditions for querying the database.\n",
    "Finally, function `get_citydb_objects` is called to retrieve data from the specified view with the specified query conditions."
   ]
  },
  {
   "cell_type": "code",
   "execution_count": 5,
   "metadata": {},
   "outputs": [
    {
     "name": "stdout",
     "output_type": "stream",
     "text": [
      "heatpump_id = 1\n",
      "effcy_indicator = COP\n"
     ]
    }
   ],
   "source": [
    "# Map table \"citydb_view.nrg8_conv_system_heat_pump\" to Python class HeatPump.\n",
    "HeatPump = db_access.map_citydb_object_class(\n",
    "  'HeatPump',\n",
    "  schema = 'citydb_view',\n",
    "  table_name = 'nrg8_conv_system_heat_pump'\n",
    "  )\n",
    "\n",
    "# Use the attributes of class HeatPump to define query conditions.\n",
    "conditions = [\n",
    "  HeatPump.name == 'HEATPUMP_01',\n",
    "  HeatPump.nom_effcy == 1.2\n",
    "  ]\n",
    "\n",
    "# Query the database using the conditions defined above.\n",
    "heatpumps = db_access.get_citydb_objects(\n",
    "  'HeatPump',\n",
    "  conditions = conditions\n",
    "  )\n",
    "\n",
    "# Retrieve data from query result.\n",
    "print( 'heatpump_id = {}'.format( heatpumps[0].id ) )\n",
    "print( 'effcy_indicator = {}'.format( heatpumps[0].effcy_indicator ) )"
   ]
  },
  {
   "cell_type": "markdown",
   "metadata": {},
   "source": [
    "For more detailed examples of how to access data please refer to notebook [PowerGridModelWriteDB](./PowerGridModelWriteDB.ipynb)."
   ]
  }
 ],
 "metadata": {
  "kernelspec": {
   "display_name": "Python 3",
   "language": "python",
   "name": "python3"
  },
  "language_info": {
   "codemirror_mode": {
    "name": "ipython",
    "version": 3
   },
   "file_extension": ".py",
   "mimetype": "text/x-python",
   "name": "python",
   "nbconvert_exporter": "python",
   "pygments_lexer": "ipython3",
   "version": "3.6.4"
  }
 },
 "nbformat": 4,
 "nbformat_minor": 2
}
