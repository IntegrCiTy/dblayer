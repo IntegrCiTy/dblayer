{
 "cells": [
  {
   "cell_type": "markdown",
   "metadata": {},
   "source": [
    "# Example: Writing a power grid model to the extended 3DCityDB\n",
    "\n",
    "This example shows how to write a power grid model to the extended *3DCityDB*, using the `dblayer` package. Basic knowledge about [CityGML](http://www.citygmlwiki.org) and the [Utility Network ADE](https://en.wiki.utilitynetworks.sig3d.org) are required for this notebook. A nice overview of the of the basic concepts of the Utility Network ADE can be found [here](https://en.wiki.utilitynetworks.sig3d.org/images/upload/20160913_-_Kolbe_-_Modeling_3D_Utility_Networks_%2B_UtilityNetwork_ADE_Core_Model.pdf).\n",
    "\n",
    "For the example, a [CIGRE network](http://www.cigre.org/News/Network-of-the-Future) is used, as shown in the following figure.\n",
    "<img src=\"./figures/cigre_network_lv.png\" style=\"width: 650px;\">"
   ]
  },
  {
   "cell_type": "markdown",
   "metadata": {},
   "source": [
    "## Getting started ...\n",
    "\n",
    "Import the required funtionality from package `dblayer`."
   ]
  },
  {
   "cell_type": "code",
   "execution_count": 1,
   "metadata": {},
   "outputs": [],
   "source": [
    "from dblayer.helpers.utn.electrical_network import *"
   ]
  },
  {
   "cell_type": "markdown",
   "metadata": {},
   "source": [
    "Load data from CSV files, containing information about busses, lines and loads."
   ]
  },
  {
   "cell_type": "code",
   "execution_count": 2,
   "metadata": {},
   "outputs": [],
   "source": [
    "import pandas as pd\n",
    "import os.path\n",
    "\n",
    "busses_csv_data = pd.read_csv( os.path.join( 'csv', 'bus_data.csv' ), index_col = 0 )\n",
    "lines_csv_data = pd.read_csv( os.path.join( 'csv', 'line_data.csv' ), index_col = 0 )\n",
    "loads_csv_data = pd.read_csv( os.path.join( 'csv', 'load_data.csv' ), index_col = 0 )"
   ]
  },
  {
   "cell_type": "markdown",
   "metadata": {},
   "source": [
    "## Connect to database\n",
    "\n",
    "Define connection parameters for 3DCityDB instance."
   ]
  },
  {
   "cell_type": "code",
   "execution_count": 3,
   "metadata": {},
   "outputs": [],
   "source": [
    "connect = PostgreSQLConnectionInfo(\n",
    "    user = 'postgres',\n",
    "    pwd = 'postgres',\n",
    "    host = 'localhost',\n",
    "    port = '5432',\n",
    "    dbname = 'testdb'\n",
    "    )"
   ]
  },
  {
   "cell_type": "markdown",
   "metadata": {},
   "source": [
    "Connect to database using an instance of class `DBAccess`."
   ]
  },
  {
   "cell_type": "code",
   "execution_count": 4,
   "metadata": {},
   "outputs": [],
   "source": [
    "db_access = DBAccess()\n",
    "db_access.connect_to_citydb( connect )"
   ]
  },
  {
   "cell_type": "markdown",
   "metadata": {},
   "source": [
    "For the purpose of this notebook yoi might want to use an empty 3DCityDB. To this end, the next two lines erase all data from an existing database. **Only execute the next two lines if you really want to erase all data from your database!**"
   ]
  },
  {
   "cell_type": "code",
   "execution_count": 5,
   "metadata": {},
   "outputs": [],
   "source": [
    "db_access.cleanup_citydb_schema()\n",
    "db_access.cleanup_simpkg_schema()"
   ]
  },
  {
   "cell_type": "markdown",
   "metadata": {},
   "source": [
    "## Write the network to the database\n",
    "Define the spatial reference ID (SRID) of the network. This should be consistent with the setup of your database."
   ]
  },
  {
   "cell_type": "code",
   "execution_count": 6,
   "metadata": {},
   "outputs": [],
   "source": [
    "srid = 25833"
   ]
  },
  {
   "cell_type": "markdown",
   "metadata": {},
   "source": [
    "Insert a new *network* and an associated *network graph*. The *network* basically contains the topographical representation - the so-called *network features* - of all the network network components. The *network graph* contains the toplogical representation - of all these components the topological links between them."
   ]
  },
  {
   "cell_type": "code",
   "execution_count": 7,
   "metadata": {},
   "outputs": [],
   "source": [
    "ntw_id = db_access.add_citydb_object(\n",
    "    insert_network,\n",
    "    name = 'CIGRE_example_network',\n",
    "    id = 1000\n",
    "    )\n",
    "\n",
    "ntw_graph_id = db_access.add_citydb_object(\n",
    "    insert_network_graph,\n",
    "    name = 'CIGRE_example_network_graph',\n",
    "    network_id = ntw_id\n",
    "    )"
   ]
  },
  {
   "cell_type": "markdown",
   "metadata": {},
   "source": [
    "Add all busses to the network. Use function `write_bus_to_db` from package `dblayer`."
   ]
  },
  {
   "cell_type": "code",
   "execution_count": 8,
   "metadata": {},
   "outputs": [],
   "source": [
    "bus_data = {}\n",
    "\n",
    "for index, bus_csv_data in busses_csv_data.iterrows():\n",
    "\n",
    "    bus_data[bus_csv_data.name] = write_bus_to_db( \n",
    "        db_access,\n",
    "        bus_csv_data.name,\n",
    "        bus_csv_data.type,\n",
    "        Point2D( bus_csv_data.x, bus_csv_data.y ),\n",
    "        bus_csv_data.vn_kv,\n",
    "        srid,\n",
    "        ntw_id,\n",
    "        ntw_graph_id\n",
    "    )"
   ]
  },
  {
   "cell_type": "markdown",
   "metadata": {},
   "source": [
    "Add all lines to the network and connect them with the busses. Use function `write_line_to_db` from package `dblayer`."
   ]
  },
  {
   "cell_type": "code",
   "execution_count": 9,
   "metadata": {},
   "outputs": [],
   "source": [
    "for index, line_csv_data in lines_csv_data.iterrows():\n",
    "\n",
    "    write_line_to_db(\n",
    "        db_access,\n",
    "        line_csv_data.name,\n",
    "        bus_data[line_csv_data.from_bus],\n",
    "        bus_data[line_csv_data.to_bus],\n",
    "        line_csv_data.c_nf_per_km,\n",
    "        line_csv_data.r_ohm_per_km,\n",
    "        line_csv_data.x_ohm_per_km,\n",
    "        line_csv_data.max_i_ka,\n",
    "        line_csv_data.type,\n",
    "        srid,\n",
    "        ntw_id,\n",
    "        ntw_graph_id\n",
    "    )"
   ]
  },
  {
   "cell_type": "markdown",
   "metadata": {},
   "source": [
    "Add all transformers to the network and connect them with the busses. Use function `write_transformer_to_db` from package `dblayer`."
   ]
  },
  {
   "cell_type": "code",
   "execution_count": 10,
   "metadata": {},
   "outputs": [],
   "source": [
    "write_transformer_to_db(\n",
    "    db_access,\n",
    "    'tr-R0-R1',\n",
    "    bus_data['bus-R0-MV'],\n",
    "    bus_data['bus-R1-LV'],\n",
    "    '0.63 MVA 20/0.4 kV',\n",
    "    srid,\n",
    "    ntw_id, ntw_graph_id\n",
    ")\n",
    "\n",
    "write_transformer_to_db(\n",
    "    db_access,\n",
    "    'tr-I0-I1',\n",
    "    bus_data['bus-I0-MV'],\n",
    "    bus_data['bus-I1-LV'],\n",
    "    '0.25 MVA 20/0.4 kV',\n",
    "    srid,\n",
    "    ntw_id,\n",
    "    ntw_graph_id\n",
    ")\n",
    "\n",
    "write_transformer_to_db(\n",
    "    db_access,\n",
    "    'tr-C0-C1',\n",
    "    bus_data['bus-C0-MV'],\n",
    "    bus_data['bus-C1-LV'],\n",
    "    '0.4 MVA 20/0.4 kV',\n",
    "    srid,\n",
    "    ntw_id, ntw_graph_id\n",
    ")"
   ]
  },
  {
   "cell_type": "markdown",
   "metadata": {},
   "source": [
    "Add all switches to the network and connect them with the busses. Use function `write_switch_to_db` from package `dblayer`."
   ]
  },
  {
   "cell_type": "code",
   "execution_count": 11,
   "metadata": {},
   "outputs": [],
   "source": [
    "write_switch_to_db(\n",
    "    db_access,\n",
    "    'switch-S1',\n",
    "    bus_data['bus-0-MV'],\n",
    "    bus_data['bus-R0-MV'],\n",
    "    'CB',\n",
    "    srid,\n",
    "    ntw_id, ntw_graph_id\n",
    ")\n",
    "\n",
    "write_switch_to_db(\n",
    "    db_access,\n",
    "    'switch-S2',\n",
    "    bus_data['bus-0-MV'],\n",
    "    bus_data['bus-I0-MV'],\n",
    "    'CB',\n",
    "    srid,\n",
    "    ntw_id, ntw_graph_id\n",
    ")\n",
    "\n",
    "write_switch_to_db(\n",
    "    db_access,\n",
    "    'switch-S3',\n",
    "    bus_data['bus-0-MV'],\n",
    "    bus_data['bus-C0-MV'],\n",
    "    'CB',\n",
    "    srid,\n",
    "    ntw_id,\n",
    "    ntw_graph_id\n",
    ")"
   ]
  },
  {
   "cell_type": "markdown",
   "metadata": {},
   "source": [
    "Add the external grid as terminal element. Use function `write_terminal_element_to_db` from package `dblayer`."
   ]
  },
  {
   "cell_type": "code",
   "execution_count": 12,
   "metadata": {},
   "outputs": [],
   "source": [
    "write_terminal_element_to_db(\n",
    "    db_access,\n",
    "    'feeder',\n",
    "    'external-grid',\n",
    "    bus_data['bus-0-MV'],\n",
    "    srid,\n",
    "    ntw_id,\n",
    "    ntw_graph_id\n",
    ")"
   ]
  },
  {
   "cell_type": "markdown",
   "metadata": {},
   "source": [
    "Add the loads to the network. Use function `write_load_to_db` from package `dblayer`."
   ]
  },
  {
   "cell_type": "code",
   "execution_count": 13,
   "metadata": {},
   "outputs": [],
   "source": [
    "for index, load_csv_data in loads_csv_data.iterrows():\n",
    "\n",
    "    write_load_to_db(\n",
    "        db_access,\n",
    "        load_csv_data.name,\n",
    "        bus_data[load_csv_data.bus],\n",
    "        load_csv_data.p_kw,\n",
    "        load_csv_data.q_kvar,\n",
    "        srid,\n",
    "        ntw_id,\n",
    "        ntw_graph_id\n",
    "    )"
   ]
  },
  {
   "cell_type": "markdown",
   "metadata": {},
   "source": [
    "Commit changes to database."
   ]
  },
  {
   "cell_type": "code",
   "execution_count": 14,
   "metadata": {},
   "outputs": [],
   "source": [
    "db_access.commit_citydb_session()"
   ]
  },
  {
   "cell_type": "markdown",
   "metadata": {},
   "source": [
    "Done."
   ]
  }
 ],
 "metadata": {
  "kernelspec": {
   "display_name": "Python 3",
   "language": "python",
   "name": "python3"
  },
  "language_info": {
   "codemirror_mode": {
    "name": "ipython",
    "version": 3
   },
   "file_extension": ".py",
   "mimetype": "text/x-python",
   "name": "python",
   "nbconvert_exporter": "python",
   "pygments_lexer": "ipython3",
   "version": "3.6.4"
  }
 },
 "nbformat": 4,
 "nbformat_minor": 2
}
