{
 "cells": [
  {
   "cell_type": "markdown",
   "metadata": {},
   "source": [
    "# Example: Writing a power grid model to the extended 3DcityDB\n",
    "\n",
    "This example shows how to write a power grid model to the extended *3DCityDB*, using the `dblayer` package. Basic knowledge about [CityGML](http://www.citygmlwiki.org) and the [Utility Network ADE](https://en.wiki.utilitynetworks.sig3d.org) are required for this notebook. A nice overview of the of the basic concepts of the Utility Network ADE can be found [here](https://en.wiki.utilitynetworks.sig3d.org/images/upload/20160913_-_Kolbe_-_Modeling_3D_Utility_Networks_%2B_UtilityNetwork_ADE_Core_Model.pdf).\n",
    "\n",
    "For the example, a [CIGRE network](http://www.cigre.org/News/Network-of-the-Future) is used, as shown in the following figure.\n",
    "<img src=\"./figures/cigre_network_lv.png\" style=\"width: 650px;\">"
   ]
  },
  {
   "cell_type": "markdown",
   "metadata": {},
   "source": [
    "## Getting started ...\n",
    "\n",
    "Import the required funtionality from package `dblayer`."
   ]
  },
  {
   "cell_type": "code",
   "execution_count": 1,
   "metadata": {},
   "outputs": [],
   "source": [
    "# Basic functionality.\n",
    "from dblayer import *\n",
    "\n",
    "# SQL functions for inserting Utility Network ADE and Energy ADE objects into the database.\n",
    "from dblayer.func.func_citydb_view_utn import *\n",
    "from dblayer.func.func_citydb_view_nrg import *\n",
    "\n",
    "# Helper functions for the Utility Network ADE and generic attributes.\n",
    "from dblayer.helpers.utn import *\n",
    "from dblayer.helpers.generic_attributes import *"
   ]
  },
  {
   "cell_type": "markdown",
   "metadata": {},
   "source": [
    "Define a data structure (using Python's `namedtuple`) for collecting information about bus data that will be stored in the 3DCityDB:\n",
    " * ID of the network feature associated to the bus\n",
    " * ID of the network feature graph associated to the bus\n",
    " * ID of the single node contained in the network feature graph\n",
    " * 2D coordinates of the bus"
   ]
  },
  {
   "cell_type": "code",
   "execution_count": 2,
   "metadata": {},
   "outputs": [],
   "source": [
    "from collections import namedtuple\n",
    "BusData = namedtuple('BusData', # name of the tuple\n",
    "                     ['feature_id', 'feature_graph_id', 'node_id', 'posx', 'posy'] ) # variable names of the tuple"
   ]
  },
  {
   "cell_type": "markdown",
   "metadata": {},
   "source": [
    "Load data from CSV files, containing information about busses, lines and loads."
   ]
  },
  {
   "cell_type": "code",
   "execution_count": 3,
   "metadata": {},
   "outputs": [],
   "source": [
    "import pandas as pd\n",
    "import os.path\n",
    "\n",
    "busses_csv_data = pd.read_csv(os.path.join('csv', 'bus_data.csv'), index_col=0)\n",
    "lines_csv_data = pd.read_csv(os.path.join('csv', 'line_data.csv'), index_col=0)\n",
    "loads_csv_data = pd.read_csv(os.path.join('csv', 'load_data.csv'), index_col = 0)"
   ]
  },
  {
   "cell_type": "markdown",
   "metadata": {},
   "source": [
    "## Definition of helper functions for adding network components\n",
    "\n",
    "Defining a network graph requires the definition of a lot of individual components. This can become a very repetitive and cumbersome task, unless one uses a programatic approach. To this end, a bunch of helper functions for adding specific network components are defined in the following, relying on functionality provided by package `dblayer`."
   ]
  },
  {
   "cell_type": "markdown",
   "metadata": {},
   "source": [
    "### A function for adding busses\n",
    "\n",
    "Define a helper function that inserts a *bus* into the 3DCityDB. Its inputs are:\n",
    " * `db_access`: An instance of class `DBAccess`, which is the basic interface of package `dblayer` to interface a 3DCityDB\n",
    " * `bus_csv_data`: An instance of class `pandas.Series`, containing information about the bus (see below).\n",
    " * `spatial_reference_id`: Spatial reference ID for the network.\n",
    " * `network_id`: ID of the *network*, to which the *network feature* representing this bus will be added in the 3DCityDB.\n",
    " * `network_graph_id`: ID of the *network graph*, to which the *feature graph* of this bus will be added in the 3DCityDB.\n",
    "\n",
    "This function relies of the helper function `insert_ntw_feature_2dpoint`, which adds a new newtwork feature, represented by a 2D point. In addition to the new network feature, a feature graph containing a single exterior node is created.\n",
    "\n",
    "Function `insert_ntw_feature_2dpoint` in turn uses function `insert_ntw_feat_simple_funct_elem`, which means that the bus will be added to the 3DCityDB as a network feature of type `SimpleFunctionalElement`.\n",
    "\n",
    "Furthermore, function `add_generic_attributes` is used to add the generic attribute *vn_kv* for this bus."
   ]
  },
  {
   "cell_type": "code",
   "execution_count": 4,
   "metadata": {},
   "outputs": [],
   "source": [
    "def write_bus_to_db(\n",
    "    db_access,\n",
    "    bus_csv_data,\n",
    "    spatial_reference_id,\n",
    "    network_id,\n",
    "    network_graph_id):\n",
    "\n",
    "    (feature_id, feature_graph_id, node_id) = insert_ntw_feature_2dpoint(\n",
    "        db_access,\n",
    "        insert_ntw_feat_simple_funct_elem,\n",
    "        spatial_reference_id,\n",
    "        network_id,\n",
    "        network_graph_id,\n",
    "        bus_csv_data.name,\n",
    "        Point2D( bus_csv_data.x, bus_csv_data.y ),\n",
    "        class_name = bus_csv_data.type\n",
    "    )\n",
    "\n",
    "    add_generic_attributes(\n",
    "        db_access,\n",
    "        feature_id,\n",
    "        {'vn_kv': bus_csv_data.vn_kv}\n",
    "    )\n",
    "\n",
    "    return BusData(feature_id, feature_graph_id, node_id, bus_csv_data.x, bus_csv_data.y)"
   ]
  },
  {
   "cell_type": "markdown",
   "metadata": {},
   "source": [
    "### A function for adding terminal elements\n",
    "\n",
    "Next, define a similar function for adding a *terminal element* to the network. In this case, function `insert_and_link_ntw_feature_2dpoint` from package `dblayer` is used. This function does the same thing as function `insert_ntw_feature_2dpoint` and in addition connects the generated exterior node via an inter feature link to another exterior node.\n",
    "\n",
    "Function `insert_and_link_ntw_feature_2dpoint` in turn uses function `insert_ntw_feat_term_elem`, which means that a network feature of type `TerminalElement` will be added to the 3DCityDB."
   ]
  },
  {
   "cell_type": "code",
   "execution_count": 5,
   "metadata": {},
   "outputs": [],
   "source": [
    "def write_terminal_element_to_db(\n",
    "    db_access,\n",
    "    name,\n",
    "    terminal_type,\n",
    "    connected_bus,\n",
    "    spatial_reference_id,\n",
    "    network_id,\n",
    "    network_graph_id,\n",
    "    cityobject_id = None):\n",
    "\n",
    "    insert_and_link_ntw_feature_2dpoint(\n",
    "        db_access,\n",
    "        insert_ntw_feat_term_elem,\n",
    "        spatial_reference_id,\n",
    "        network_id,\n",
    "        network_graph_id,\n",
    "        name,\n",
    "        Point2D( connected_bus.posx, connected_bus.posy ),\n",
    "        connected_bus.node_id,\n",
    "        class_name = terminal_type\n",
    "    )"
   ]
  },
  {
   "cell_type": "markdown",
   "metadata": {},
   "source": [
    "### A function for adding lines\n",
    "\n",
    "Next, define a similar function for adding a *line* to the network. In this case, function `insert_and_link_ntw_feature_2dlinestring` from package `dblayer` is used. This function adds a new newtwork feature, represented by a 2D line segment (made up of 2D points). In addition to the new network feature, a feature graph containing a 2D line segment is created and the start and end points of this line segment are associated to exterior nodes and linked via an interior feature link.\n",
    "\n",
    "Function `insert_and_link_ntw_feature_2dlinestring` in turn uses function `insert_ntw_feat_distrib_elem_cable`, which means that a network feature of type `Cable` will be added to the 3DCityDB."
   ]
  },
  {
   "cell_type": "code",
   "execution_count": 6,
   "metadata": {},
   "outputs": [],
   "source": [
    "def write_line_to_db(\n",
    "    db_access,\n",
    "    name,\n",
    "    from_bus,\n",
    "    to_bus,\n",
    "    line_type,\n",
    "    spatial_reference_id,\n",
    "    network_id,\n",
    "    network_graph_id):\n",
    "\n",
    "    line_segment = [\n",
    "        Point2D(from_bus.posx, from_bus.posy),\n",
    "        Point2D(to_bus.posx, to_bus.posy)\n",
    "    ]\n",
    "\n",
    "    insert_and_link_ntw_feature_2dlinestring(\n",
    "        db_access,\n",
    "        insert_ntw_feat_distrib_elem_cable,\n",
    "        spatial_reference_id,\n",
    "        network_id,\n",
    "        network_graph_id,\n",
    "        name,\n",
    "        line_segment,\n",
    "        from_bus.node_id,\n",
    "        to_bus.node_id,\n",
    "        class_name = 'line',\n",
    "        function = line_type\n",
    "    )"
   ]
  },
  {
   "cell_type": "markdown",
   "metadata": {},
   "source": [
    "### A function for adding switches\n",
    "\n",
    "This function is again very similar to the previous one. The biggest difference is that function `insert_and_link_ntw_feature_2dlinestring` uses function `insert_ntw_feat_simple_funct_elem` to represent the switch in the 3DCityDB as an object of type `SimpleFunctionalElement`."
   ]
  },
  {
   "cell_type": "code",
   "execution_count": 7,
   "metadata": {},
   "outputs": [],
   "source": [
    "def write_switch_to_db(\n",
    "    db_access,\n",
    "    name,\n",
    "    from_bus,\n",
    "    to_bus,\n",
    "    switch_type,\n",
    "    spatial_reference_id,\n",
    "    network_id,\n",
    "    network_graph_id):\n",
    "\n",
    "    line_segment = [\n",
    "        Point2D(from_bus.posx, from_bus.posy),\n",
    "        Point2D(to_bus.posx, to_bus.posy)\n",
    "    ]\n",
    "\n",
    "    insert_and_link_ntw_feature_2dlinestring(\n",
    "        db_access,\n",
    "        insert_ntw_feat_simple_funct_elem,\n",
    "        spatial_reference_id,\n",
    "        network_id,\n",
    "        network_graph_id,\n",
    "        name,\n",
    "        line_segment,\n",
    "        from_bus.node_id,\n",
    "        to_bus.node_id,\n",
    "        class_name = 'switch',\n",
    "        function = switch_type\n",
    "    )"
   ]
  },
  {
   "cell_type": "markdown",
   "metadata": {},
   "source": [
    "### A function for adding transformers\n",
    "\n",
    "Next, define a function for adding a transformer. Basically works the same as the previous two functions, but relies on function `insert_ntw_feat_simple_funct_elem` to represent a transformer as an object of type `ComplexFunctionalElement`."
   ]
  },
  {
   "cell_type": "code",
   "execution_count": 8,
   "metadata": {},
   "outputs": [],
   "source": [
    "def write_transformer_to_db(\n",
    "    db_access,\n",
    "    name,\n",
    "    hv_bus,\n",
    "    lv_bus,\n",
    "    transformer_type,\n",
    "    spatial_reference_id,\n",
    "    network_id,\n",
    "    network_graph_id):\n",
    "\n",
    "    line_segment = [\n",
    "        Point2D(hv_bus.posx, hv_bus.posy),\n",
    "        Point2D(lv_bus.posx, lv_bus.posy)\n",
    "    ]\n",
    "\n",
    "    insert_and_link_ntw_feature_2dlinestring(\n",
    "        db_access,\n",
    "        insert_ntw_feat_complex_funct_elem,\n",
    "        spatial_reference_id,\n",
    "        network_id,\n",
    "        network_graph_id,\n",
    "        name,\n",
    "        line_segment,\n",
    "        hv_bus.node_id,\n",
    "        lv_bus.node_id,\n",
    "        class_name = 'transformer',\n",
    "        function = transformer_type,\n",
    "    )"
   ]
  },
  {
   "cell_type": "markdown",
   "metadata": {},
   "source": [
    "### A function for adding loads\n",
    "Finally, define a function that can be used to add loads to the network. To this end, it adds an object of type `ElectricalAppliances` to the database, which stores the (static) power consumption. This is done with the help of function `add_citydb_object`, which in turn uses function `insert_electrical_appliances`. Additional parameters defining the load are associated as generic parameters to this object.\n",
    "\n",
    "Finally, a terminal element is added to the network using function `write_terminal_element_to_db` , which is linked to the electrical appliance via its city object ID."
   ]
  },
  {
   "cell_type": "code",
   "execution_count": 9,
   "metadata": {},
   "outputs": [],
   "source": [
    "def write_load_to_db(\n",
    "    db_access,\n",
    "    name,\n",
    "    bus,\n",
    "    spatial_reference_id,\n",
    "    network_id,\n",
    "    network_graph_id,\n",
    "    p_kw,\n",
    "    q_kvar,\n",
    "    scaling):\n",
    "\n",
    "    appliance_id = access.add_citydb_object(\n",
    "        insert_electrical_appliances,\n",
    "        name = 'electrical_appliance_' + name,\n",
    "        electr_pwr = p_kw,\n",
    "        electr_pwr_unit = 'kW'\n",
    "    )\n",
    "\n",
    "    add_generic_attributes(\n",
    "        db_access,\n",
    "        appliance_id,\n",
    "        {'q_kvar': q_kvar, 'scaling': scaling}\n",
    "    )\n",
    "\n",
    "    write_terminal_element_to_db(\n",
    "        db_access,\n",
    "        name,\n",
    "        'load',\n",
    "        bus,\n",
    "        spatial_reference_id,\n",
    "        network_id,\n",
    "        network_graph_id,\n",
    "        appliance_id\n",
    "    )"
   ]
  },
  {
   "cell_type": "markdown",
   "metadata": {},
   "source": [
    "## Connect to database\n",
    "\n",
    "Define connection parameters for 3DCityDB instance."
   ]
  },
  {
   "cell_type": "code",
   "execution_count": 10,
   "metadata": {},
   "outputs": [],
   "source": [
    "connect = PostgreSQLConnectionInfo(\n",
    "    user='postgres',\n",
    "    pwd='postgres',\n",
    "    host='localhost',\n",
    "    port='5432',\n",
    "    dbname='testdb'\n",
    "    )"
   ]
  },
  {
   "cell_type": "markdown",
   "metadata": {},
   "source": [
    "Connect to database using an instance of class `DBAccess`."
   ]
  },
  {
   "cell_type": "code",
   "execution_count": 22,
   "metadata": {},
   "outputs": [],
   "source": [
    "access = DBAccess()\n",
    "access.connect_to_citydb(connect)"
   ]
  },
  {
   "cell_type": "markdown",
   "metadata": {},
   "source": [
    "For the purpose of this notebook yoi might want to use an empty 3DCityDB. To this end, the next two lines erase all data from an existing database. **Only execute the next two lines if you really want to erase all data from your database!**"
   ]
  },
  {
   "cell_type": "code",
   "execution_count": 12,
   "metadata": {},
   "outputs": [],
   "source": [
    "access.cleanup_citydb_schema()\n",
    "access.cleanup_simpkg_schema()"
   ]
  },
  {
   "cell_type": "markdown",
   "metadata": {},
   "source": [
    "## Write the network to the database\n",
    "Define the spatial reference ID (SRID) of the network. This should be consistent with the setup of your database."
   ]
  },
  {
   "cell_type": "code",
   "execution_count": 13,
   "metadata": {},
   "outputs": [],
   "source": [
    "srid = 25833"
   ]
  },
  {
   "cell_type": "markdown",
   "metadata": {},
   "source": [
    "Insert a new *network* and an associated *network graph*. The *network* basically contains the topographical representation - the so-called *network features* - of all the network network components. The *network graph* contains the toplogical representation - of all these components the topological links between them."
   ]
  },
  {
   "cell_type": "code",
   "execution_count": 14,
   "metadata": {},
   "outputs": [],
   "source": [
    "ntw_id = access.add_citydb_object(\n",
    "    insert_network,\n",
    "    name = 'CIGRE_example_network'\n",
    "    )\n",
    "\n",
    "ntw_graph_id = access.add_citydb_object(\n",
    "    insert_network_graph,\n",
    "    name = 'CIGRE_example_network_graph',\n",
    "    network_id = ntw_id\n",
    "    )"
   ]
  },
  {
   "cell_type": "markdown",
   "metadata": {},
   "source": [
    "Add all busses to the network. Use function `write_bus_to_db` defined above."
   ]
  },
  {
   "cell_type": "code",
   "execution_count": 15,
   "metadata": {},
   "outputs": [],
   "source": [
    "bus_data = {}\n",
    "\n",
    "for index, bus_csv_data in busses_csv_data.iterrows():\n",
    "\n",
    "    bus_data[bus_csv_data.name] = write_bus_to_db( \n",
    "        access,\n",
    "        bus_csv_data,\n",
    "        srid,\n",
    "        ntw_id,\n",
    "        ntw_graph_id\n",
    "    )"
   ]
  },
  {
   "cell_type": "markdown",
   "metadata": {},
   "source": [
    "Add all lines to the network and connect them with the busses. Use function `write_line_to_db` defined above."
   ]
  },
  {
   "cell_type": "code",
   "execution_count": 16,
   "metadata": {},
   "outputs": [],
   "source": [
    "for index, line_csv_data in lines_csv_data.iterrows():\n",
    "\n",
    "    write_line_to_db(\n",
    "        access,\n",
    "        line_csv_data.name,\n",
    "        bus_data[line_csv_data.from_bus],\n",
    "        bus_data[line_csv_data.to_bus],\n",
    "        line_csv_data.type,\n",
    "        srid,\n",
    "        ntw_id,\n",
    "        ntw_graph_id\n",
    "    )"
   ]
  },
  {
   "cell_type": "markdown",
   "metadata": {},
   "source": [
    "Add all transformers to the network and connect them with the busses. Use function `write_transformer_to_db` defined above."
   ]
  },
  {
   "cell_type": "code",
   "execution_count": 17,
   "metadata": {},
   "outputs": [],
   "source": [
    "write_transformer_to_db(\n",
    "    access,\n",
    "    'tr-R0-R1',\n",
    "    bus_data['bus-R0-MV'],\n",
    "    bus_data['bus-R1-LV'],\n",
    "    '0.63 MVA 20/0.4 kV',\n",
    "    srid,\n",
    "    ntw_id, ntw_graph_id\n",
    ")\n",
    "\n",
    "write_transformer_to_db(\n",
    "    access,\n",
    "    'tr-I0-I1',\n",
    "    bus_data['bus-I0-MV'],\n",
    "    bus_data['bus-I1-LV'],\n",
    "    '0.25 MVA 20/0.4 kV',\n",
    "    srid,\n",
    "    ntw_id,\n",
    "    ntw_graph_id\n",
    ")\n",
    "\n",
    "write_transformer_to_db(\n",
    "    access,\n",
    "    'tr-C0-C1',\n",
    "    bus_data['bus-C0-MV'],\n",
    "    bus_data['bus-C1-LV'],\n",
    "    '0.4 MVA 20/0.4 kV',\n",
    "    srid,\n",
    "    ntw_id, ntw_graph_id\n",
    ")"
   ]
  },
  {
   "cell_type": "markdown",
   "metadata": {},
   "source": [
    "Add all switches to the network and connect them with the busses. Use function `write_switch_to_db` defined above."
   ]
  },
  {
   "cell_type": "code",
   "execution_count": 18,
   "metadata": {},
   "outputs": [],
   "source": [
    "write_switch_to_db(\n",
    "    access,\n",
    "    'switch-S1',\n",
    "    bus_data['bus-0-MV'],\n",
    "    bus_data['bus-R0-MV'],\n",
    "    'CB',\n",
    "    srid,\n",
    "    ntw_id, ntw_graph_id\n",
    ")\n",
    "\n",
    "write_switch_to_db(\n",
    "    access,\n",
    "    'switch-S2',\n",
    "    bus_data['bus-0-MV'],\n",
    "    bus_data['bus-I0-MV'],\n",
    "    'CB',\n",
    "    srid,\n",
    "    ntw_id, ntw_graph_id\n",
    ")\n",
    "\n",
    "write_switch_to_db(\n",
    "    access,\n",
    "    'switch-S3',\n",
    "    bus_data['bus-0-MV'],\n",
    "    bus_data['bus-C0-MV'],\n",
    "    'CB',\n",
    "    srid,\n",
    "    ntw_id,\n",
    "    ntw_graph_id\n",
    ")"
   ]
  },
  {
   "cell_type": "markdown",
   "metadata": {},
   "source": [
    "Add the external grid as terminal element. Use function `write_terminal_element_to_db` defined above."
   ]
  },
  {
   "cell_type": "code",
   "execution_count": 19,
   "metadata": {},
   "outputs": [],
   "source": [
    "write_terminal_element_to_db(\n",
    "    access,\n",
    "    'feeder',\n",
    "    'external-grid',\n",
    "    bus_data['bus-0-MV'],\n",
    "    srid,\n",
    "    ntw_id,\n",
    "    ntw_graph_id\n",
    ")"
   ]
  },
  {
   "cell_type": "markdown",
   "metadata": {},
   "source": [
    "Add the loads to the network. Use function `` defined above."
   ]
  },
  {
   "cell_type": "code",
   "execution_count": 20,
   "metadata": {},
   "outputs": [],
   "source": [
    "for index, load_csv_data in loads_csv_data.iterrows():\n",
    "    write_load_to_db(\n",
    "        access,\n",
    "        load_csv_data.name,\n",
    "        bus_data[load_csv_data.bus],\n",
    "        srid,\n",
    "        ntw_id,\n",
    "        ntw_graph_id,\n",
    "        load_csv_data.p_kw,\n",
    "        load_csv_data.q_kvar,\n",
    "        load_csv_data.scaling\n",
    "    )"
   ]
  },
  {
   "cell_type": "markdown",
   "metadata": {},
   "source": [
    "Commit changes to database."
   ]
  },
  {
   "cell_type": "code",
   "execution_count": 21,
   "metadata": {},
   "outputs": [],
   "source": [
    "access.commit_citydb_session()"
   ]
  },
  {
   "cell_type": "markdown",
   "metadata": {},
   "source": [
    "Done."
   ]
  }
 ],
 "metadata": {
  "kernelspec": {
   "display_name": "Python 3",
   "language": "python",
   "name": "python3"
  },
  "language_info": {
   "codemirror_mode": {
    "name": "ipython",
    "version": 3
   },
   "file_extension": ".py",
   "mimetype": "text/x-python",
   "name": "python",
   "nbconvert_exporter": "python",
   "pygments_lexer": "ipython3",
   "version": "3.6.4"
  }
 },
 "nbformat": 4,
 "nbformat_minor": 2
}
